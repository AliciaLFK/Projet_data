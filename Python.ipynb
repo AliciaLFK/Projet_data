{
 "cells": [
  {
   "cell_type": "code",
   "execution_count": 1,
   "metadata": {},
   "outputs": [
    {
     "name": "stdout",
     "output_type": "stream",
     "text": [
      "Requirement already satisfied: pandas in c:\\users\\achan\\anaconda3\\lib\\site-packages (1.3.4)Note: you may need to restart the kernel to use updated packages.\n"
     ]
    },
    {
     "name": "stderr",
     "output_type": "stream",
     "text": [
      "ERROR: Cannot uninstall 'TBB'. It is a distutils installed project and thus we cannot accurately determine which files belong to it which would lead to only a partial uninstall.\n"
     ]
    },
    {
     "name": "stdout",
     "output_type": "stream",
     "text": [
      "\n",
      "Collecting pandas\n",
      "  Using cached pandas-1.4.1-cp39-cp39-win_amd64.whl (10.5 MB)\n",
      "Requirement already satisfied: numpy==1.20 in c:\\users\\achan\\anaconda3\\lib\\site-packages (1.20.0)\n",
      "Requirement already satisfied: scikit-learn in c:\\users\\achan\\anaconda3\\lib\\site-packages (0.24.2)\n",
      "Collecting scikit-learn\n",
      "  Using cached scikit_learn-1.0.2-cp39-cp39-win_amd64.whl (7.2 MB)\n",
      "Collecting daal\n",
      "  Using cached daal-2021.5.3-py2.py3-none-win_amd64.whl (72.4 MB)\n",
      "Requirement already satisfied: pytz>=2020.1 in c:\\users\\achan\\anaconda3\\lib\\site-packages (from pandas) (2021.3)\n",
      "Requirement already satisfied: python-dateutil>=2.8.1 in c:\\users\\achan\\anaconda3\\lib\\site-packages (from pandas) (2.8.2)\n",
      "Requirement already satisfied: scipy>=1.1.0 in c:\\users\\achan\\anaconda3\\lib\\site-packages (from scikit-learn) (1.7.1)\n",
      "Requirement already satisfied: threadpoolctl>=2.0.0 in c:\\users\\achan\\anaconda3\\lib\\site-packages (from scikit-learn) (2.2.0)\n",
      "Requirement already satisfied: joblib>=0.11 in c:\\users\\achan\\anaconda3\\lib\\site-packages (from scikit-learn) (1.1.0)\n",
      "Collecting tbb==2021.*\n",
      "  Using cached tbb-2021.5.1-py3-none-win_amd64.whl (278 kB)\n",
      "Requirement already satisfied: six>=1.5 in c:\\users\\achan\\anaconda3\\lib\\site-packages (from python-dateutil>=2.8.1->pandas) (1.16.0)\n",
      "Installing collected packages: tbb, scikit-learn, pandas, daal\n",
      "  Attempting uninstall: tbb\n",
      "    Found existing installation: TBB 0.2\n"
     ]
    }
   ],
   "source": [
    "%pip install -U pandas numpy==1.20 scikit-learn daal"
   ]
  },
  {
   "cell_type": "code",
   "execution_count": 2,
   "metadata": {},
   "outputs": [
    {
     "name": "stdout",
     "output_type": "stream",
     "text": [
      "Hello\n"
     ]
    }
   ],
   "source": [
    "print(\"Hello\")"
   ]
  },
  {
   "cell_type": "code",
   "execution_count": 4,
   "metadata": {},
   "outputs": [
    {
     "name": "stdout",
     "output_type": "stream",
     "text": [
      "Cellule 1 =  7560 µm3 Cellule 2 =  7560 µm3\n",
      "Les 2 cellules sont de tailles identiques\n"
     ]
    }
   ],
   "source": [
    "def compare_cellSize(cell1, cell2): #Juste pour comparer la taille de 2 cellules...\n",
    "    print('Cellule 1 = ', cell1, 'µm3', 'Cellule 2 = ', cell2, 'µm3')\n",
    "    if(cell1<cell2):\n",
    "        print('Cellule 2 plus grande')\n",
    "    elif(cell1==cell2):\n",
    "        print('Les 2 cellules sont de tailles identiques')\n",
    "    else:\n",
    "        print('Cellule 1 plus grande que la 2')\n",
    "\n",
    "Cell_Size = lambda longeur, largeur, hauteur : longeur * largeur * hauteur #Fonction pour calculer le volume de la cellule\n",
    "compare_cellSize(cell1 = Cell_Size(20, 18, 21), cell2= Cell_Size(18, 20, 21)) #les dimensions des cellules sont en µm"
   ]
  }
 ],
 "metadata": {
  "interpreter": {
   "hash": "5820f448ca7e2a047bd3c094469b6a4486bbbcda233e8f896a00125cc2a53480"
  },
  "kernelspec": {
   "display_name": "Python 3.9.7 ('base')",
   "language": "python",
   "name": "python3"
  },
  "language_info": {
   "codemirror_mode": {
    "name": "ipython",
    "version": 3
   },
   "file_extension": ".py",
   "mimetype": "text/x-python",
   "name": "python",
   "nbconvert_exporter": "python",
   "pygments_lexer": "ipython3",
   "version": "3.9.7"
  },
  "orig_nbformat": 4
 },
 "nbformat": 4,
 "nbformat_minor": 2
}
